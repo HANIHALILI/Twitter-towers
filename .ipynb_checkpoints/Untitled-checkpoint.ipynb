{
 "cells": [
  {
   "cell_type": "code",
   "execution_count": 23,
   "id": "00473634-adf9-4643-bfce-01e8f4e3fdc3",
   "metadata": {
    "scrolled": true
   },
   "outputs": [
    {
     "name": "stdin",
     "output_type": "stream",
     "text": [
      "Enter your select , for rectangle press 1 , for triangular press 2:  2\n",
      "Enter height:  4\n",
      "Enter width:  5\n",
      "To calculate the circumference, press 1. To print, press 2 2\n"
     ]
    },
    {
     "name": "stdout",
     "output_type": "stream",
     "text": [
      "  *\n",
      " ***\n",
      " ***\n",
      "*****\n"
     ]
    },
    {
     "name": "stdin",
     "output_type": "stream",
     "text": [
      "Enter your select , for rectangle press 1 , for triangular press 2:  2\n",
      "Enter height:  12\n",
      "Enter width:  9\n",
      "To calculate the circumference, press 1. To print, press 2 2\n"
     ]
    },
    {
     "name": "stdout",
     "output_type": "stream",
     "text": [
      "    *\n",
      "   ***\n",
      "   ***\n",
      "   ***\n",
      "   ***\n",
      "  *****\n",
      "  *****\n",
      "  *****\n",
      " *******\n",
      " *******\n",
      " *******\n",
      "*********\n"
     ]
    },
    {
     "name": "stdin",
     "output_type": "stream",
     "text": [
      "Enter your select , for rectangle press 1 , for triangular press 2:  3\n"
     ]
    }
   ],
   "source": [
    "import math\n",
    "select_main = 0\n",
    "state = True\n",
    "\n",
    "while state:\n",
    "    while select_main != 1 and select_main != 2 and select_main != 3:\n",
    "        select_main = int(input(\"Enter your select , for rectangle press 1 , for triangular press 2: \"))\n",
    "    if select_main == 3:\n",
    "        break;\n",
    "    height =  int(input(\"Enter height: \"))\n",
    "    width =  int(input(\"Enter width: \"))\n",
    "    match select_main:\n",
    "       case 1:\n",
    "           if abs(height - width) <= 5 and height != width:\n",
    "               print(\"The perimeter of the rectangle is: \" + str((width+height)*2))\n",
    "           else:\n",
    "               print(\"The area of the rectangle is: \" + str(width*height))\n",
    "           select_main = 0\n",
    "       case 2:\n",
    "           select = int(input(\"To calculate the circumference, press 1. To print, press 2\"))\n",
    "           if(select == 1):\n",
    "               rib = (height**2 + width**2)**0.5\n",
    "               print(\"The perimeter of the triangular is: \" + str(width+rib*2))\n",
    "           elif(select == 2):\n",
    "               if(width%2 == 0 or width > 2*height):\n",
    "                   print(\"Can not print the triangular\")\n",
    "               else:\n",
    "                   x = math.ceil(width/2)- 2  #calculate the num of types even lines\n",
    "                   y = math.floor((height-2)/x) #calculate the num of instance of each type even line\n",
    "                   last =(height-2) - x*y  + y #calculate the num of the instance of the high line before the top\n",
    "                   padding = \" \" * ((width - 1) // 2)\n",
    "                   print(padding+\"*\")\n",
    "                   padding = padding[:-1]\n",
    "                   for i in range(last):\n",
    "                       print(padding+\"***\")\n",
    "                   height = height - last - 2\n",
    "                   num = 5\n",
    "                   while(height):\n",
    "                       padding = padding[:-1]\n",
    "                       for i in range(y):\n",
    "                           print(padding+num*\"*\")\n",
    "                           height = height -1\n",
    "                       num = num + 2\n",
    "                   padding = padding[:-1]\n",
    "                   print(padding+width*\"*\")\n",
    "           else:print(\"The input is not valid\")\n",
    "           select_main = 0\n"
   ]
  }
 ],
 "metadata": {
  "kernelspec": {
   "display_name": "Python 3 (ipykernel)",
   "language": "python",
   "name": "python3"
  },
  "language_info": {
   "codemirror_mode": {
    "name": "ipython",
    "version": 3
   },
   "file_extension": ".py",
   "mimetype": "text/x-python",
   "name": "python",
   "nbconvert_exporter": "python",
   "pygments_lexer": "ipython3",
   "version": "3.10.7"
  }
 },
 "nbformat": 4,
 "nbformat_minor": 5
}
